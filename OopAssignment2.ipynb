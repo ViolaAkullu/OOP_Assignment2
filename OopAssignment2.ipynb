{
  "nbformat": 4,
  "nbformat_minor": 0,
  "metadata": {
    "colab": {
      "provenance": []
    },
    "kernelspec": {
      "name": "python3",
      "display_name": "Python 3"
    },
    "language_info": {
      "name": "python"
    }
  },
  "cells": [
    {
      "cell_type": "markdown",
      "source": [],
      "metadata": {
        "id": "K-6lM2tYaYUy"
      }
    },
    {
      "cell_type": "markdown",
      "source": [
        "Q1: Electricity Billing Optimization\n",
        "\n",
        "You are analyzing monthly household electricity consumption data for 10 customers in Kampala. Each record contains: customer_name, units_used, connection_type (e.g., 'Bosco', 245, 'Domestic'). Attempt the following tasks:"
      ],
      "metadata": {
        "id": "m1tfSQTpL4KH"
      }
    },
    {
      "cell_type": "markdown",
      "source": [
        "1.1. Use zip() and map() to pair customer names with total bills computed by a lambda:\n",
        " • Domestic rate = 820 UGX/unit\n",
        " • Commercial rate = 1000 UGX/unit"
      ],
      "metadata": {
        "id": "FiVgbnuYMBnQ"
      }
    },
    {
      "cell_type": "markdown",
      "source": [
        "1.2. Use filter() to separate high-consumption customers (units > 500)."
      ],
      "metadata": {
        "id": "Up1-szb0NC4F"
      }
    },
    {
      "cell_type": "code",
      "source": [
        "#getting the records for 10 customers\n",
        "\n",
        "customer_name = ['Jonah','Viola','Joyce','Mercy','Inno','Flora','Andrew','Ben','Pesh','Mat']\n",
        "units_used = [245,564,354,678,722,100,434,570,900,345]\n",
        "connection_type =['Domestic','Commercial','Commercial','Domestic','Commercial','Commercial','Commercial','Domestic','Commercial','Domestic']\n",
        "\n",
        "#using the lambda func as the first argument for the map func and a zip object as the\n",
        "#second argument to compute bills according to connection type\n",
        "bills = map(lambda item: item[0]*820 if item[1] == 'Domestic' else item[0]*1000,zip(units_used,connection_type))\n",
        "\n",
        "bills = list(bills) #converts bills from azip object to a list\n",
        "customer_bills = zip(customer_name,bills) #matching customer_name to bills of that customer\n",
        "customer_bills = list(customer_bills) #converts customer_bills from a zip object to a list\n",
        "\n",
        "for name, bill in customer_bills:\n",
        "    print(f\"{name}: {bill} UGX\") #displaying results"
      ],
      "metadata": {
        "colab": {
          "base_uri": "https://localhost:8080/"
        },
        "id": "vcRASzc6NdSr",
        "outputId": "c4227ef7-aced-43b4-c67a-1feb9f58456f"
      },
      "execution_count": 2,
      "outputs": [
        {
          "output_type": "stream",
          "name": "stdout",
          "text": [
            "Jonah: 200900 UGX\n",
            "Viola: 564000 UGX\n",
            "Joyce: 354000 UGX\n",
            "Mercy: 555960 UGX\n",
            "Inno: 722000 UGX\n",
            "Flora: 100000 UGX\n",
            "Andrew: 434000 UGX\n",
            "Ben: 467400 UGX\n",
            "Pesh: 900000 UGX\n",
            "Mat: 282900 UGX\n"
          ]
        }
      ]
    },
    {
      "cell_type": "code",
      "source": [
        "# filering out hgh consumption customers and putting the result inside a list\n",
        "high_consumption_customers = list((filter(lambda item:item[1] > 500,zip(customer_name,units_used))))\n",
        "print(\"High Consumption Customers:\")\n",
        "for name, units in high_consumption_customers:\n",
        "    print(name, units, sep ='-')"
      ],
      "metadata": {
        "colab": {
          "base_uri": "https://localhost:8080/"
        },
        "id": "eGHGWU2eNEx2",
        "outputId": "706823e7-4907-4aea-e8b1-23869303c610"
      },
      "execution_count": 3,
      "outputs": [
        {
          "output_type": "stream",
          "name": "stdout",
          "text": [
            "High Consumption Customers:\n",
            "Viola-564\n",
            "Mercy-678\n",
            "Inno-722\n",
            "Ben-570\n",
            "Pesh-900\n"
          ]
        }
      ]
    },
    {
      "cell_type": "markdown",
      "source": [
        "1.3. Using *args, write a function average_bill(*bills) that computes the average."
      ],
      "metadata": {
        "id": "LFs5gzfiNLSw"
      }
    },
    {
      "cell_type": "code",
      "source": [
        "def average_bills(*bills):\n",
        "    if len(bills) == 0:\n",
        "        return 0\n",
        "\n",
        "    total = sum(bills)  # Sum all the bills\n",
        "    count = len(bills)# Count how many bills were provided\n",
        "    average = total / count # Compute the average\n",
        "    return average  # Returns the calculated average\n",
        "\n",
        "bills = [amount for  _,amount in customer_bills]\n",
        "print(bills)\n",
        "answer = average_bills(*bills)\n",
        "print(f\"average bills =: {answer}\")"
      ],
      "metadata": {
        "colab": {
          "base_uri": "https://localhost:8080/"
        },
        "id": "8ttEJcQyNsei",
        "outputId": "892862bf-391d-41b9-d748-35ad7a280153"
      },
      "execution_count": 4,
      "outputs": [
        {
          "output_type": "stream",
          "name": "stdout",
          "text": [
            "[200900, 564000, 354000, 555960, 722000, 100000, 434000, 467400, 900000, 282900]\n",
            "average bills =: 458116.0\n"
          ]
        }
      ]
    },
    {
      "cell_type": "markdown",
      "source": [
        "1.4) Display results using list comprehension in the format: ['Bosco: UGX 200,900', 'Jane: UGX 400,000', ...]"
      ],
      "metadata": {
        "id": "UMrETpwENtYL"
      }
    },
    {
      "cell_type": "code",
      "source": [
        "bills_formatted = [f\"{name}: UGX {amount:,}\" for name, amount in customer_bills]\n",
        "print(bills_formatted)"
      ],
      "metadata": {
        "colab": {
          "base_uri": "https://localhost:8080/"
        },
        "id": "tpFHPC-1Ntpd",
        "outputId": "ce828dd2-9599-4b25-8f08-188101a381d7"
      },
      "execution_count": 5,
      "outputs": [
        {
          "output_type": "stream",
          "name": "stdout",
          "text": [
            "['Jonah: UGX 200,900', 'Viola: UGX 564,000', 'Joyce: UGX 354,000', 'Mercy: UGX 555,960', 'Inno: UGX 722,000', 'Flora: UGX 100,000', 'Andrew: UGX 434,000', 'Ben: UGX 467,400', 'Pesh: UGX 900,000', 'Mat: UGX 282,900']\n"
          ]
        }
      ]
    },
    {
      "cell_type": "markdown",
      "source": [
        "Q2: Market Basket Price Aggregator\n",
        "Each vendor reports different fruit prices daily:\n",
        "mango_prices = [2500, 2700, 2600, 2800]\n",
        "orange_prices = [3000, 3200, 3100, 3050]\n",
        "apple_prices = [4500, 4600, 4550, 4700]\n",
        "Attempt the following tasks:"
      ],
      "metadata": {
        "id": "lZ-pHHzgN7zA"
      }
    },
    {
      "cell_type": "markdown",
      "source": [
        "2.1 Use zip_longest() to handle missing prices."
      ],
      "metadata": {
        "id": "ZCSKGMlAOEKr"
      }
    },
    {
      "cell_type": "code",
      "source": [
        "from itertools import zip_longest\n",
        "mango_prices = [2500, 2700, 2600, 2800]\n",
        "orange_prices = [3000, 3200, 3100, 3050]\n",
        "apple_prices = [4500, 4600, 4550, 4700]\n",
        "\n",
        "prices_combined= zip_longest(mango_prices,orange_prices,apple_prices,fillvalue = 0)#Combine the daily prices using zip_longest\n",
        "# fillvalue=0 ensures that if a vendor misses a report, we treat the missing price as 0\n",
        "\n",
        "prices_combined= list(prices_combined) #converts the zip object into a list of prices\n",
        "\n",
        "mango, orange, apple = zip(*prices_combined)\n",
        "#seperates prices per fruit presented as tuples\n",
        "\n",
        "print(\"Mango prices:\", mango)\n",
        "print(\"Orange prices:\", orange)\n",
        "print(\"Apple prices:\", apple)\n",
        "#displaying the results"
      ],
      "metadata": {
        "colab": {
          "base_uri": "https://localhost:8080/"
        },
        "id": "_y0weVrmN9nr",
        "outputId": "4fec8393-563d-4fa8-88c3-124dc3ee3069"
      },
      "execution_count": 6,
      "outputs": [
        {
          "output_type": "stream",
          "name": "stdout",
          "text": [
            "Mango prices: (2500, 2700, 2600, 2800)\n",
            "Orange prices: (3000, 3200, 3100, 3050)\n",
            "Apple prices: (4500, 4600, 4550, 4700)\n"
          ]
        }
      ]
    },
    {
      "cell_type": "markdown",
      "source": [
        "2.2 Define a lambda function avg = lambda lst: sum(lst)/len(lst) to compute average per fruit."
      ],
      "metadata": {
        "id": "mR_e3ev9OFNV"
      }
    },
    {
      "cell_type": "code",
      "source": [
        "prices_fruitwise = zip(*prices_combined) #Transposes the daywise tuples into fruitwise tuples\n",
        "\n",
        "avg = lambda lst: sum(lst)/len(lst) #writing a lambda func to calculate average\n",
        "average = [avg(lst) for lst in list(prices_fruitwise)] # calling the func avg()\n",
        "\n",
        "print(f\"Average mangos price = {average[0]}\\nAverage oranges price = {average[1]}\\nAverage apples price = {average[2]}\")\n",
        "# displaying averages"
      ],
      "metadata": {
        "colab": {
          "base_uri": "https://localhost:8080/"
        },
        "id": "IWgQ5SXJOFnG",
        "outputId": "18e64a47-b0c8-46cf-952e-853d2f86d22a"
      },
      "execution_count": 7,
      "outputs": [
        {
          "output_type": "stream",
          "name": "stdout",
          "text": [
            "Average mangos price = 2650.0\n",
            "Average oranges price = 3087.5\n",
            "Average apples price = 4587.5\n"
          ]
        }
      ]
    },
    {
      "cell_type": "markdown",
      "source": [
        "2.3 Create a generator expression that yields all fruits with average price above 3000."
      ],
      "metadata": {
        "id": "Ab5Gkf6DOWhP"
      }
    },
    {
      "cell_type": "code",
      "source": [
        "fruits =('Mango','Orange','Apple')\n",
        "costly_fruits = (fruit for fruit,average_price in zip(fruits,average) if average_price > 3000)"
      ],
      "metadata": {
        "id": "i1VJmWrSOWwP"
      },
      "execution_count": 8,
      "outputs": []
    },
    {
      "cell_type": "markdown",
      "source": [
        "2.4 Print the generator’s results neatly as: Fruits Above Average Price: Mango, Orange, Apple"
      ],
      "metadata": {
        "id": "QR_lMrZuOfUe"
      }
    },
    {
      "cell_type": "code",
      "source": [
        "costly_fruits_list = list(costly_fruits)\n",
        "\n",
        "print(f\"Fruits Above Average Price: {', '.join(costly_fruits_list)}\")"
      ],
      "metadata": {
        "colab": {
          "base_uri": "https://localhost:8080/"
        },
        "id": "3Y_shaWxOfkX",
        "outputId": "091b58e4-3dde-4d23-9426-bec9a72519c6"
      },
      "execution_count": 9,
      "outputs": [
        {
          "output_type": "stream",
          "name": "stdout",
          "text": [
            "Fruits Above Average Price: Orange, Apple\n"
          ]
        }
      ]
    },
    {
      "cell_type": "markdown",
      "source": [
        "Q3: District Temperature Tracker"
      ],
      "metadata": {
        "id": "JmG2NLYpOsSc"
      }
    },
    {
      "cell_type": "code",
      "source": [
        "#Temperature data (°C):\n",
        "kampala = [28, 30, 29, 27, 26, 29, 30, 31, 32, 30, 29, 28]\n",
        "gulu = [25, 26, 27, 27, 28, 29, 30, 30, 29, 27, 26, 25]\n",
        "mbarara = [22, 23, 23, 24, 25, 25, 26, 27, 27, 26, 24, 23]"
      ],
      "metadata": {
        "id": "RfKcc1Z7OwBu"
      },
      "execution_count": 10,
      "outputs": []
    },
    {
      "cell_type": "markdown",
      "source": [
        "3.1. Use map() with lambda to convert all temperatures to Fahrenheit."
      ],
      "metadata": {
        "id": "Al_bBZBbPLN0"
      }
    },
    {
      "cell_type": "code",
      "source": [
        "temps = kampala + gulu + mbarara # combiningall temperatures into a single list\n",
        "\n",
        "temps_to_fah = list(map(lambda t: (t *9/5 )+ 32, temps)) #converts celcius to fahrenheits\n",
        "print(temps_to_fah) #display result"
      ],
      "metadata": {
        "colab": {
          "base_uri": "https://localhost:8080/"
        },
        "id": "fgbxwCkRPqGk",
        "outputId": "76347920-913b-4bb1-d94b-2e91100444b6"
      },
      "execution_count": 11,
      "outputs": [
        {
          "output_type": "stream",
          "name": "stdout",
          "text": [
            "[82.4, 86.0, 84.2, 80.6, 78.8, 84.2, 86.0, 87.8, 89.6, 86.0, 84.2, 82.4, 77.0, 78.8, 80.6, 80.6, 82.4, 84.2, 86.0, 86.0, 84.2, 80.6, 78.8, 77.0, 71.6, 73.4, 73.4, 75.2, 77.0, 77.0, 78.8, 80.6, 80.6, 78.8, 75.2, 73.4]\n"
          ]
        }
      ]
    },
    {
      "cell_type": "markdown",
      "source": [
        "3.2. Use zip() to pair months (Jan–Dec) with Kampala temps."
      ],
      "metadata": {
        "id": "UmaOc18KPyqV"
      }
    },
    {
      "cell_type": "code",
      "source": [
        "months = ['Jan', 'Feb', 'Mar', 'Apr', 'May', 'Jun','Jul', 'Aug', 'Sep', 'Oct', 'Nov', 'Dec']\n",
        "\n",
        "kamp_monthly = list(zip(months,kampala))\n",
        "\n",
        "for month, temp in kamp_monthly:\n",
        "    print(f\"{month}: {temp}°C\")"
      ],
      "metadata": {
        "colab": {
          "base_uri": "https://localhost:8080/"
        },
        "id": "yXR5Ai6lPzxc",
        "outputId": "e96f3af8-b7f6-4982-8711-d17ce0a78c7a"
      },
      "execution_count": 12,
      "outputs": [
        {
          "output_type": "stream",
          "name": "stdout",
          "text": [
            "Jan: 28°C\n",
            "Feb: 30°C\n",
            "Mar: 29°C\n",
            "Apr: 27°C\n",
            "May: 26°C\n",
            "Jun: 29°C\n",
            "Jul: 30°C\n",
            "Aug: 31°C\n",
            "Sep: 32°C\n",
            "Oct: 30°C\n",
            "Nov: 29°C\n",
            "Dec: 28°C\n"
          ]
        }
      ]
    },
    {
      "cell_type": "markdown",
      "source": [
        "3.3. Use filter() to identify months with temperature > 30°C."
      ],
      "metadata": {
        "id": "OiCZj4FNP7L_"
      }
    },
    {
      "cell_type": "code",
      "source": [
        "hot_months = list(filter(lambda item: item[1] > 30, kamp_monthly))\n",
        "print(hot_months)"
      ],
      "metadata": {
        "colab": {
          "base_uri": "https://localhost:8080/"
        },
        "id": "LgSO3nd1P8R8",
        "outputId": "a7a531bc-552f-45c7-b176-4abfa5b2eb0d"
      },
      "execution_count": 13,
      "outputs": [
        {
          "output_type": "stream",
          "name": "stdout",
          "text": [
            "[('Aug', 31), ('Sep', 32)]\n"
          ]
        }
      ]
    },
    {
      "cell_type": "markdown",
      "source": [
        "3.4.Create a generator to yield month names and temperatures above threshold."
      ],
      "metadata": {
        "id": "yjs0_f3YQFzZ"
      }
    },
    {
      "cell_type": "code",
      "source": [
        "threshold = 30\n",
        "hott_months = (month for month,t in kamp_monthly if t > threshold)"
      ],
      "metadata": {
        "id": "HYkE5TACQLU-"
      },
      "execution_count": 14,
      "outputs": []
    },
    {
      "cell_type": "markdown",
      "source": [
        "3.5. Print as: Hot months in Kampala: July - 31°C, August - 32°C"
      ],
      "metadata": {
        "id": "wcN0TsxvQQHs"
      }
    },
    {
      "cell_type": "code",
      "source": [
        "hot_months_str = ', '.join(f\"{month} - {temp}°C\" for month, temp in hot_months)\n",
        "\n",
        "# Print the result\n",
        "print(f\"Hot months in Kampala: {hot_months_str}\")"
      ],
      "metadata": {
        "colab": {
          "base_uri": "https://localhost:8080/"
        },
        "id": "miC4BoQLQSE0",
        "outputId": "07c0797c-55fc-49b3-dabf-a433f5887aea"
      },
      "execution_count": 15,
      "outputs": [
        {
          "output_type": "stream",
          "name": "stdout",
          "text": [
            "Hot months in Kampala: Aug - 31°C, Sep - 32°C\n"
          ]
        }
      ]
    },
    {
      "cell_type": "markdown",
      "source": [
        "Q4: School Fees Payment Analyzer"
      ],
      "metadata": {
        "id": "VnfEo3_JQbHP"
      }
    },
    {
      "cell_type": "code",
      "source": [
        "#Installment data:\n",
        "students = ['Alex', 'Grace', 'Sarah', 'Brian']\n",
        "installments = [\n",
        " [150000, 200000, 250000],\n",
        " [500000, 0, 200000],\n",
        " [300000, 300000, 300000],\n",
        " [400000, 100000, 0]\n",
        "]"
      ],
      "metadata": {
        "id": "as7NMuakQcFR"
      },
      "execution_count": 16,
      "outputs": []
    },
    {
      "cell_type": "markdown",
      "source": [
        "4.1. Write a lambda function that sums valid payments and ignores zeros."
      ],
      "metadata": {
        "id": "txQF1RMvQhBf"
      }
    },
    {
      "cell_type": "code",
      "source": [
        "sum_payments = lambda payments: sum(p for p in payments if p != 0)\n",
        "answer = sum_payments(installments[0])\n",
        "print(\"Total pay for Alex:\",answer)"
      ],
      "metadata": {
        "colab": {
          "base_uri": "https://localhost:8080/"
        },
        "id": "K_DMCir5Qk8p",
        "outputId": "0c4b65b1-15fb-4a49-c352-340b05053507"
      },
      "execution_count": 17,
      "outputs": [
        {
          "output_type": "stream",
          "name": "stdout",
          "text": [
            "Total pay for Alex: 600000\n"
          ]
        }
      ]
    },
    {
      "cell_type": "markdown",
      "source": [
        "4.2. Use map() to compute total paid by each student."
      ],
      "metadata": {
        "id": "lfylRZA5QqXs"
      }
    },
    {
      "cell_type": "code",
      "source": [
        "total_payment = map(sum_payments,installments)\n",
        "total_payment_value = list(total_payment)\n",
        "print(\"Totals for Alex, Grace, Sarah, Brain respectively\",total_payment_value)"
      ],
      "metadata": {
        "colab": {
          "base_uri": "https://localhost:8080/"
        },
        "id": "Ve4keH_sQrVh",
        "outputId": "50285a8a-5193-4cdf-d7e7-e0247564e83b"
      },
      "execution_count": 18,
      "outputs": [
        {
          "output_type": "stream",
          "name": "stdout",
          "text": [
            "Totals for Alex, Grace, Sarah, Brain respectively [600000, 700000, 900000, 500000]\n"
          ]
        }
      ]
    },
    {
      "cell_type": "markdown",
      "source": [
        "4.3. Combine student names and totals using zip()."
      ],
      "metadata": {
        "id": "qA_xiPhXQyxk"
      }
    },
    {
      "cell_type": "code",
      "source": [
        "total_pay_students = zip(students,total_payment_value)\n",
        "students_totals = list(total_pay_students)\n",
        "print(students_totals)"
      ],
      "metadata": {
        "colab": {
          "base_uri": "https://localhost:8080/"
        },
        "id": "dsWsDlR7Q3e8",
        "outputId": "117dbf01-898f-42fc-b87a-9fece375db7e"
      },
      "execution_count": 19,
      "outputs": [
        {
          "output_type": "stream",
          "name": "stdout",
          "text": [
            "[('Alex', 600000), ('Grace', 700000), ('Sarah', 900000), ('Brian', 500000)]\n"
          ]
        }
      ]
    },
    {
      "cell_type": "markdown",
      "source": [
        "4.4. Use filter() to find students who have cleared full fees (≥600,000)."
      ],
      "metadata": {
        "id": "C3oqPrRzQ93a"
      }
    },
    {
      "cell_type": "code",
      "source": [
        "cleared_students = filter(lambda value: value[1] >= 600000, students_totals)\n",
        "cleared_students_value = list(cleared_students)\n",
        "print(\"Students who paid full fees:\",cleared_students_value)"
      ],
      "metadata": {
        "colab": {
          "base_uri": "https://localhost:8080/"
        },
        "id": "-TG9owrmRBCn",
        "outputId": "ffe4bd48-803c-450d-dac1-38679b319e1e"
      },
      "execution_count": 20,
      "outputs": [
        {
          "output_type": "stream",
          "name": "stdout",
          "text": [
            "Students who paid full fees: [('Alex', 600000), ('Grace', 700000), ('Sarah', 900000)]\n"
          ]
        }
      ]
    },
    {
      "cell_type": "markdown",
      "source": [
        "4.5. Create payment_summary(**kwargs) that receives named args like Alex=600000 and prints summaries."
      ],
      "metadata": {
        "id": "wFZfTjaCRHhk"
      }
    },
    {
      "cell_type": "code",
      "source": [
        "def payment_summary(**kwargs):\n",
        "  for student,value in kwargs.items():\n",
        "    if value >=600000:\n",
        "      print(f\"{student} cleared school fees, {value}units\")\n",
        "    else:\n",
        "        print(f\"{student} did not clear school fees, {value}units\")\n",
        "payment_summary(Alex=600000, Grace=700000, Sarah=900000, Brian=50000)\n"
      ],
      "metadata": {
        "colab": {
          "base_uri": "https://localhost:8080/"
        },
        "id": "qk1L5mGtRIhy",
        "outputId": "9dc38ba5-6fda-4850-aef5-61b1bdcdb5a6"
      },
      "execution_count": 21,
      "outputs": [
        {
          "output_type": "stream",
          "name": "stdout",
          "text": [
            "Alex cleared school fees, 600000units\n",
            "Grace cleared school fees, 700000units\n",
            "Sarah cleared school fees, 900000units\n",
            "Brian did not clear school fees, 50000units\n"
          ]
        }
      ]
    },
    {
      "cell_type": "markdown",
      "source": [
        "Q5: Agricultural Yield Estimator"
      ],
      "metadata": {
        "id": "6Go-06x0RR1L"
      }
    },
    {
      "cell_type": "code",
      "source": [
        "districts = ['Bushenyi', 'Mityana', 'Kasese', 'Mbale']\n",
        "yield_data = [1200, 1500, 900, 1300]"
      ],
      "metadata": {
        "id": "WkRUqhC4RU4z"
      },
      "execution_count": 23,
      "outputs": []
    },
    {
      "cell_type": "markdown",
      "source": [
        "5.1. Use a list comprehension with a lambda to convert yields from kg to tons"
      ],
      "metadata": {
        "id": "tkFwx1bjRXvt"
      }
    },
    {
      "cell_type": "code",
      "source": [
        "yields_tons = [(lambda y: y/1000 )(y) for y in yield_data]\n",
        "print(yields_tons)"
      ],
      "metadata": {
        "colab": {
          "base_uri": "https://localhost:8080/"
        },
        "id": "d6f92O_zRbJc",
        "outputId": "b9e41085-2c32-4115-b21d-1779b780485e"
      },
      "execution_count": 24,
      "outputs": [
        {
          "output_type": "stream",
          "name": "stdout",
          "text": [
            "[1.2, 1.5, 0.9, 1.3]\n"
          ]
        }
      ]
    },
    {
      "cell_type": "markdown",
      "source": [
        "5.2. Write a generator that yields only districts with yield > 1 ton."
      ],
      "metadata": {
        "id": "ZYELH-9LRh74"
      }
    },
    {
      "cell_type": "code",
      "source": [
        "high_yield_districts = (district for district, y in zip(districts, yields_tons) if y > 1)\n",
        "print(\"Districts with yield > 1 ton:\")\n",
        "for district in high_yield_districts:\n",
        "    print(district)"
      ],
      "metadata": {
        "colab": {
          "base_uri": "https://localhost:8080/"
        },
        "id": "aME0GFZ8RliB",
        "outputId": "ae7aa90a-fd4b-4f29-d902-82030882e581"
      },
      "execution_count": 25,
      "outputs": [
        {
          "output_type": "stream",
          "name": "stdout",
          "text": [
            "Districts with yield > 1 ton:\n",
            "Bushenyi\n",
            "Mityana\n",
            "Mbale\n"
          ]
        }
      ]
    },
    {
      "cell_type": "markdown",
      "source": [
        "5.3. Use *args to compute average yield across all districts"
      ],
      "metadata": {
        "id": "OVIgzqzHRpLO"
      }
    },
    {
      "cell_type": "code",
      "source": [
        "def average_yield(*yields):\n",
        "      return sum(yields) / len(yields)\n",
        "\n",
        "avg_yield = average_yield(*yields_tons)\n",
        "print(f\"Average yield across districts: {avg_yield:.2f} tons\")"
      ],
      "metadata": {
        "colab": {
          "base_uri": "https://localhost:8080/"
        },
        "id": "Eldeh3LlRuxL",
        "outputId": "5379749e-0a9e-4d21-bc30-348d4fde02b5"
      },
      "execution_count": 26,
      "outputs": [
        {
          "output_type": "stream",
          "name": "stdout",
          "text": [
            "Average yield across districts: 1.23 tons\n"
          ]
        }
      ]
    },
    {
      "cell_type": "markdown",
      "source": [
        "5.4. Use **kwargs to simulate price changes per district and compute revenue (tons × price)."
      ],
      "metadata": {
        "id": "ckKZWnepR2XG"
      }
    },
    {
      "cell_type": "code",
      "source": [
        "\n",
        "def compute_revenue(**prices):\n",
        "  revenue ={}\n",
        "  for district, price_per_ton in prices.items():  # loop through supplied prices\n",
        "        if district in districts:\n",
        "            idx = districts.index(district)  # find index of district\n",
        "            revenue[district] = yields_tons[idx] * price_per_ton\n",
        "        else:\n",
        "            print(f\"Warning: {district} not in districts list\")\n",
        "  return revenue\n",
        "revenues = compute_revenue(Bushenyi = 100000, Mityana = 400000, Kasese = 230000, Mbale= 350040)\n",
        "print(\"Revenue for Bushenyi\",revenues['Bushenyi'])\n",
        "print(\"Revenue for Mityana\",revenues['Mityana'])\n",
        "print(\"Revenue for Kasese\",revenues['Kasese'])\n",
        "print(\"Revenue for Mbale\",revenues['Mbale'])"
      ],
      "metadata": {
        "colab": {
          "base_uri": "https://localhost:8080/"
        },
        "id": "YUdMLYYFR60I",
        "outputId": "8161e764-c63f-4aaf-f3f8-40b2e7c06bb3"
      },
      "execution_count": 27,
      "outputs": [
        {
          "output_type": "stream",
          "name": "stdout",
          "text": [
            "Revenue for Bushenyi 120000.0\n",
            "Revenue for Mityana 600000.0\n",
            "Revenue for Kasese 207000.0\n",
            "Revenue for Mbale 455052.0\n"
          ]
        }
      ]
    },
    {
      "cell_type": "markdown",
      "source": [
        "5.5. Print formatted output like: Kasese produced 0.9 tons — Revenue: UGX 4,500,000."
      ],
      "metadata": {
        "id": "1BrO9_j1SARw"
      }
    },
    {
      "cell_type": "code",
      "source": [
        "for district, rev in revenues.items():\n",
        "    tons = yields_tons[districts.index(district)]\n",
        "    print(f\"{district} produced {tons:.1f} tons — Revenue: UGX {rev:,.0f}\")"
      ],
      "metadata": {
        "colab": {
          "base_uri": "https://localhost:8080/"
        },
        "id": "FKpU1s0ASBS3",
        "outputId": "0ffb0edd-f766-4cb8-e0ac-735ed7e8a4f2"
      },
      "execution_count": 28,
      "outputs": [
        {
          "output_type": "stream",
          "name": "stdout",
          "text": [
            "Bushenyi produced 1.2 tons — Revenue: UGX 120,000\n",
            "Mityana produced 1.5 tons — Revenue: UGX 600,000\n",
            "Kasese produced 0.9 tons — Revenue: UGX 207,000\n",
            "Mbale produced 1.3 tons — Revenue: UGX 455,052\n"
          ]
        }
      ]
    },
    {
      "cell_type": "markdown",
      "source": [
        "Q6. Web Data Aggregation"
      ],
      "metadata": {
        "id": "ni246MtvSIhM"
      }
    },
    {
      "cell_type": "code",
      "source": [
        "\n",
        "sites = ['https://ucu.ac.ug', 'https://harba.ug', 'https://www.bou.or.ug']"
      ],
      "metadata": {
        "id": "yTZ4HlcSSMcC"
      },
      "execution_count": 29,
      "outputs": []
    },
    {
      "cell_type": "markdown",
      "source": [
        "6.1 Write a function that takes *urls and uses requests.get() to return response codes."
      ],
      "metadata": {
        "id": "hoiHE7ONSREL"
      }
    },
    {
      "cell_type": "code",
      "source": [
        "import requests\n",
        "def get_status_codes(*urls):\n",
        "\n",
        "    results = []\n",
        "    for url in urls:\n",
        "        try:\n",
        "            response = requests.get(url)\n",
        "            results.append((url, response.status_code))\n",
        "        except requests.RequestException:\n",
        "            # In case of network error or invalid URL\n",
        "            results.append((url, None))\n",
        "    return results\n",
        "\n",
        "status_list = get_status_codes(*sites)\n",
        "print(\"Status Codes:\", status_list)"
      ],
      "metadata": {
        "colab": {
          "base_uri": "https://localhost:8080/"
        },
        "id": "G_EHpUQ2SV6g",
        "outputId": "a0f86917-ab98-45ba-b34d-41a8a626aa0c"
      },
      "execution_count": 30,
      "outputs": [
        {
          "output_type": "stream",
          "name": "stdout",
          "text": [
            "Status Codes: [('https://ucu.ac.ug', 200), ('https://harba.ug', 200), ('https://www.bou.or.ug', 200)]\n"
          ]
        }
      ]
    },
    {
      "cell_type": "markdown",
      "source": [
        "6.2. Use a list comprehension to print only URLs with status code 200."
      ],
      "metadata": {
        "id": "ohDgf8wtSiiq"
      }
    },
    {
      "cell_type": "code",
      "source": [
        "reachable_urls = [url for url, code in status_list if code == 200]\n",
        "print(\"Reachable URLs:\", reachable_urls)"
      ],
      "metadata": {
        "colab": {
          "base_uri": "https://localhost:8080/"
        },
        "id": "H5Oupa5KSldA",
        "outputId": "c215f9d9-22c9-4225-8b73-d7a0e2932852"
      },
      "execution_count": 31,
      "outputs": [
        {
          "output_type": "stream",
          "name": "stdout",
          "text": [
            "Reachable URLs: ['https://ucu.ac.ug', 'https://harba.ug', 'https://www.bou.or.ug']\n"
          ]
        }
      ]
    },
    {
      "cell_type": "markdown",
      "source": [
        "6.3. Store results in a dictionary using a dictionary comprehension."
      ],
      "metadata": {
        "id": "DsZ-KGuNSpNf"
      }
    },
    {
      "cell_type": "code",
      "source": [
        "status_dict = {url: code for url, code in status_list}\n",
        "print(\"Status Dictionary:\", status_dict)"
      ],
      "metadata": {
        "colab": {
          "base_uri": "https://localhost:8080/"
        },
        "id": "ur0MpglOStqx",
        "outputId": "ba2456f7-2fa6-4760-da12-3d87ee12d597"
      },
      "execution_count": 32,
      "outputs": [
        {
          "output_type": "stream",
          "name": "stdout",
          "text": [
            "Status Dictionary: {'https://ucu.ac.ug': 200, 'https://harba.ug': 200, 'https://www.bou.or.ug': 200}\n"
          ]
        }
      ]
    },
    {
      "cell_type": "markdown",
      "source": [
        "6.4. Create a generator expression that yields 'Active Site: ' for reachable domains."
      ],
      "metadata": {
        "id": "QD2ZsbXlSy9u"
      }
    },
    {
      "cell_type": "code",
      "source": [
        "active_sites = (f\"Active Site: {url}\" for url, code in status_list if code == 200)\n",
        "\n",
        "# Print generator results\n",
        "for site in active_sites:\n",
        "    print(site)"
      ],
      "metadata": {
        "colab": {
          "base_uri": "https://localhost:8080/"
        },
        "id": "wPJOF4dVS12t",
        "outputId": "a48301f3-dbc0-4d5b-9655-65accdcf3545"
      },
      "execution_count": 33,
      "outputs": [
        {
          "output_type": "stream",
          "name": "stdout",
          "text": [
            "Active Site: https://ucu.ac.ug\n",
            "Active Site: https://harba.ug\n",
            "Active Site: https://www.bou.or.ug\n"
          ]
        }
      ]
    }
  ]
}